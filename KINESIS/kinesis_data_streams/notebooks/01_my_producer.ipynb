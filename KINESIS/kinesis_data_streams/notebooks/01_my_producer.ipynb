{
 "cells": [
  {
   "cell_type": "code",
   "execution_count": 2,
   "id": "dd721664-695e-4721-ac39-3c7c76ee4444",
   "metadata": {},
   "outputs": [],
   "source": [
    "import time\n",
    "import random\n",
    "import boto3"
   ]
  },
  {
   "cell_type": "code",
   "execution_count": 17,
   "id": "a0208718-8b96-485f-8308-5c2386aa4738",
   "metadata": {},
   "outputs": [],
   "source": [
    "client = boto3.client(\"kinesis\", region_name=\"eu-central-1\")\n",
    "\n",
    "STREAM_NAME = \"vbo-aws-de-demo-ds\""
   ]
  },
  {
   "cell_type": "markdown",
   "id": "16807638-da9e-4c64-b6d1-e64429eeab71",
   "metadata": {},
   "source": [
    "# Create stream"
   ]
  },
  {
   "cell_type": "code",
   "execution_count": 24,
   "id": "fd2c6600-90e5-45af-8efd-3b4385491d54",
   "metadata": {},
   "outputs": [
    {
     "data": {
      "text/plain": [
       "{'ResponseMetadata': {'RequestId': 'd97018a6-7147-bf2a-8440-5e46c528c29e',\n",
       "  'HTTPStatusCode': 200,\n",
       "  'HTTPHeaders': {'x-amzn-requestid': 'd97018a6-7147-bf2a-8440-5e46c528c29e',\n",
       "   'x-amz-id-2': 'oQrNnqJeE7bahjhcrYrAgNpHpauFSKq+phnjW1bcBILUjwjqlfL1nwULoHEdIzePRxS2ZSUENnTft2gUVMRLNTGTLRrTOmOW',\n",
       "   'date': 'Tue, 18 Jul 2023 07:52:00 GMT',\n",
       "   'content-type': 'application/x-amz-json-1.1',\n",
       "   'content-length': '0'},\n",
       "  'RetryAttempts': 0}}"
      ]
     },
     "execution_count": 24,
     "metadata": {},
     "output_type": "execute_result"
    }
   ],
   "source": [
    "client.create_stream(\n",
    "    StreamName=STREAM_NAME,\n",
    "    # ShardCount=2, only PROVISIONED mode\n",
    "    StreamModeDetails={\n",
    "          'StreamMode': 'ON_DEMAND'\n",
    "      }\n",
    ")"
   ]
  },
  {
   "cell_type": "code",
   "execution_count": 25,
   "id": "73cdc46d-2268-43c1-9efd-42c673126017",
   "metadata": {},
   "outputs": [
    {
     "data": {
      "text/plain": [
       "{'StreamDescription': {'StreamName': 'vbo-aws-de-demo-ds',\n",
       "  'StreamARN': 'arn:aws:kinesis:eu-central-1:152100380489:stream/vbo-aws-de-demo-ds',\n",
       "  'StreamStatus': 'ACTIVE',\n",
       "  'StreamModeDetails': {'StreamMode': 'ON_DEMAND'},\n",
       "  'Shards': [{'ShardId': 'shardId-000000000000',\n",
       "    'HashKeyRange': {'StartingHashKey': '0',\n",
       "     'EndingHashKey': '85070591730234615865843651857942052863'},\n",
       "    'SequenceNumberRange': {'StartingSequenceNumber': '49642750538171707563930981033457045185650116393439330306'}},\n",
       "   {'ShardId': 'shardId-000000000001',\n",
       "    'HashKeyRange': {'StartingHashKey': '85070591730234615865843651857942052864',\n",
       "     'EndingHashKey': '170141183460469231731687303715884105727'},\n",
       "    'SequenceNumberRange': {'StartingSequenceNumber': '49642750538194008309129511656598580903922764754945310738'}},\n",
       "   {'ShardId': 'shardId-000000000002',\n",
       "    'HashKeyRange': {'StartingHashKey': '170141183460469231731687303715884105728',\n",
       "     'EndingHashKey': '255211775190703847597530955573826158591'},\n",
       "    'SequenceNumberRange': {'StartingSequenceNumber': '49642750538216309054328042279740116622195413116451291170'}},\n",
       "   {'ShardId': 'shardId-000000000003',\n",
       "    'HashKeyRange': {'StartingHashKey': '255211775190703847597530955573826158592',\n",
       "     'EndingHashKey': '340282366920938463463374607431768211455'},\n",
       "    'SequenceNumberRange': {'StartingSequenceNumber': '49642750538238609799526572902881652340468061477957271602'}}],\n",
       "  'HasMoreShards': False,\n",
       "  'RetentionPeriodHours': 24,\n",
       "  'StreamCreationTimestamp': datetime.datetime(2023, 7, 18, 7, 51, 59, tzinfo=tzlocal()),\n",
       "  'EnhancedMonitoring': [{'ShardLevelMetrics': []}],\n",
       "  'EncryptionType': 'NONE'},\n",
       " 'ResponseMetadata': {'RequestId': 'f9bf1823-f695-d393-a48f-5ec4bc6a79ca',\n",
       "  'HTTPStatusCode': 200,\n",
       "  'HTTPHeaders': {'x-amzn-requestid': 'f9bf1823-f695-d393-a48f-5ec4bc6a79ca',\n",
       "   'x-amz-id-2': 'DfQ1c6XGxbVJvqr5+BakWmD2WI9tZmgFLjND4AThbBvhTHVyNobhEXFWnFkC6s2CTNJOjn/EblPpGjXxRM5zkVqdPHue/ljN',\n",
       "   'date': 'Tue, 18 Jul 2023 07:52:07 GMT',\n",
       "   'content-type': 'application/x-amz-json-1.1',\n",
       "   'content-length': '1453'},\n",
       "  'RetryAttempts': 0}}"
      ]
     },
     "execution_count": 25,
     "metadata": {},
     "output_type": "execute_result"
    }
   ],
   "source": [
    "stream_description = client.describe_stream(StreamName=STREAM_NAME)\n",
    "stream_description"
   ]
  },
  {
   "cell_type": "code",
   "execution_count": 26,
   "id": "ecc807e3-7a7e-433a-8483-b2c12a1eb135",
   "metadata": {},
   "outputs": [
    {
     "data": {
      "text/plain": [
       "'arn:aws:kinesis:eu-central-1:152100380489:stream/vbo-aws-de-demo-ds'"
      ]
     },
     "execution_count": 26,
     "metadata": {},
     "output_type": "execute_result"
    }
   ],
   "source": [
    "stream_arn = stream_description['StreamDescription']['StreamARN']\n",
    "stream_arn"
   ]
  },
  {
   "cell_type": "code",
   "execution_count": 29,
   "id": "dcd7b308-a36a-42d1-8243-9a4d65060bfa",
   "metadata": {},
   "outputs": [
    {
     "data": {
      "text/plain": [
       "['shardId-000000000000',\n",
       " 'shardId-000000000001',\n",
       " 'shardId-000000000002',\n",
       " 'shardId-000000000003']"
      ]
     },
     "execution_count": 29,
     "metadata": {},
     "output_type": "execute_result"
    }
   ],
   "source": [
    "shard_ids = [ shard['ShardId'] for shard in stream_description['StreamDescription']['Shards'] ]\n",
    "shard_ids"
   ]
  },
  {
   "cell_type": "code",
   "execution_count": 30,
   "id": "5d487f07-b061-4369-a0b4-5299ebbdf97a",
   "metadata": {},
   "outputs": [],
   "source": [
    "import pandas as pd"
   ]
  },
  {
   "cell_type": "code",
   "execution_count": 31,
   "id": "f2773e0e-849d-4ebb-82dd-f1c5278359e1",
   "metadata": {},
   "outputs": [
    {
     "data": {
      "text/html": [
       "<div>\n",
       "<style scoped>\n",
       "    .dataframe tbody tr th:only-of-type {\n",
       "        vertical-align: middle;\n",
       "    }\n",
       "\n",
       "    .dataframe tbody tr th {\n",
       "        vertical-align: top;\n",
       "    }\n",
       "\n",
       "    .dataframe thead th {\n",
       "        text-align: right;\n",
       "    }\n",
       "</style>\n",
       "<table border=\"1\" class=\"dataframe\">\n",
       "  <thead>\n",
       "    <tr style=\"text-align: right;\">\n",
       "      <th></th>\n",
       "      <th>plaka</th>\n",
       "      <th>il</th>\n",
       "    </tr>\n",
       "  </thead>\n",
       "  <tbody>\n",
       "    <tr>\n",
       "      <th>0</th>\n",
       "      <td>1</td>\n",
       "      <td>Adana</td>\n",
       "    </tr>\n",
       "    <tr>\n",
       "      <th>1</th>\n",
       "      <td>2</td>\n",
       "      <td>Adıyaman</td>\n",
       "    </tr>\n",
       "    <tr>\n",
       "      <th>2</th>\n",
       "      <td>3</td>\n",
       "      <td>Afyonkarahisar</td>\n",
       "    </tr>\n",
       "    <tr>\n",
       "      <th>3</th>\n",
       "      <td>4</td>\n",
       "      <td>Ağrı</td>\n",
       "    </tr>\n",
       "    <tr>\n",
       "      <th>4</th>\n",
       "      <td>5</td>\n",
       "      <td>Amasya</td>\n",
       "    </tr>\n",
       "  </tbody>\n",
       "</table>\n",
       "</div>"
      ],
      "text/plain": [
       "   plaka              il\n",
       "0      1           Adana\n",
       "1      2        Adıyaman\n",
       "2      3  Afyonkarahisar\n",
       "3      4            Ağrı\n",
       "4      5          Amasya"
      ]
     },
     "execution_count": 31,
     "metadata": {},
     "output_type": "execute_result"
    }
   ],
   "source": [
    "df = pd.read_csv(\"https://raw.githubusercontent.com/erkansirin78/datasets/master/tr_il_plaka_kod.csv\")\n",
    "df.head()"
   ]
  },
  {
   "cell_type": "markdown",
   "id": "daf61416-94b4-4374-b96c-57ba20577e5a",
   "metadata": {},
   "source": [
    "# Start producing"
   ]
  },
  {
   "cell_type": "code",
   "execution_count": 34,
   "id": "969c8e0f-1978-4292-9076-6d07045294bc",
   "metadata": {},
   "outputs": [
    {
     "name": "stdout",
     "output_type": "stream",
     "text": [
      "Sending Adana\n",
      "shardId-000000000003\n",
      "Sending Adıyaman\n",
      "shardId-000000000003\n",
      "Sending Afyonkarahisar\n",
      "shardId-000000000003\n",
      "Sending Ağrı\n",
      "shardId-000000000002\n",
      "Sending Amasya\n",
      "shardId-000000000003\n",
      "Sending Ankara\n",
      "shardId-000000000000\n",
      "Sending Antalya\n",
      "shardId-000000000002\n",
      "Sending Artvin\n",
      "shardId-000000000003\n",
      "Sending Aydın\n",
      "shardId-000000000001\n",
      "Sending Balıkesir\n",
      "shardId-000000000003\n",
      "Sending Bilecik\n",
      "shardId-000000000001\n",
      "Sending Bingöl\n",
      "shardId-000000000003\n",
      "Sending Bitlis\n",
      "shardId-000000000003\n",
      "Sending Bolu\n",
      "shardId-000000000002\n",
      "Sending Burdur\n",
      "shardId-000000000002\n",
      "Sending Bursa\n",
      "shardId-000000000003\n",
      "Sending Çanakkale\n",
      "shardId-000000000001\n",
      "Sending Çankırı\n",
      "shardId-000000000001\n",
      "Sending Çorum\n",
      "shardId-000000000000\n",
      "Sending Denizli\n",
      "shardId-000000000002\n",
      "Sending Diyarbakır\n",
      "shardId-000000000000\n",
      "Sending Edirne\n",
      "shardId-000000000002\n",
      "Sending Elâzığ\n",
      "shardId-000000000000\n",
      "Sending Erzincan\n",
      "shardId-000000000000\n",
      "Sending Erzurum\n",
      "shardId-000000000002\n",
      "Sending Eskişehir\n",
      "shardId-000000000001\n",
      "Sending Gaziantep\n",
      "shardId-000000000000\n",
      "Sending Giresun\n",
      "shardId-000000000000\n",
      "Sending Gümüşhane\n",
      "shardId-000000000001\n",
      "Sending Hakkâri\n",
      "shardId-000000000000\n",
      "Sending Hatay\n",
      "shardId-000000000003\n",
      "Sending Isparta\n",
      "shardId-000000000001\n",
      "Sending Mersin\n",
      "shardId-000000000000\n",
      "Sending İstanbul\n",
      "shardId-000000000003\n",
      "Sending İzmir\n",
      "shardId-000000000000\n",
      "Sending Kars\n",
      "shardId-000000000000\n",
      "Sending Kastamonu\n",
      "shardId-000000000002\n",
      "Sending Kayseri\n",
      "shardId-000000000002\n",
      "Sending Kırklareli\n",
      "shardId-000000000003\n",
      "Sending Kırşehir\n",
      "shardId-000000000003\n",
      "Sending Kocaeli\n",
      "shardId-000000000000\n",
      "Sending Konya\n",
      "shardId-000000000002\n",
      "Sending Kütahya\n",
      "shardId-000000000000\n",
      "Sending Malatya\n",
      "shardId-000000000003\n",
      "Sending Manisa\n",
      "shardId-000000000001\n",
      "Sending Kahramanmaraş\n",
      "shardId-000000000003\n",
      "Sending Mardin\n",
      "shardId-000000000001\n",
      "Sending Muğla\n",
      "shardId-000000000001\n",
      "Sending Muş\n",
      "shardId-000000000003\n",
      "Sending Nevşehir\n",
      "shardId-000000000003\n",
      "Sending Niğde\n",
      "shardId-000000000000\n",
      "Sending Ordu\n",
      "shardId-000000000002\n",
      "Sending Rize\n",
      "shardId-000000000003\n",
      "Sending Sakarya\n",
      "shardId-000000000002\n",
      "Sending Samsun\n",
      "shardId-000000000002\n",
      "Sending Siirt\n",
      "shardId-000000000002\n",
      "Sending Sinop\n",
      "shardId-000000000001\n",
      "Sending Sivas\n",
      "shardId-000000000001\n",
      "Sending Tekirdağ\n",
      "shardId-000000000000\n",
      "Sending Tokat\n",
      "shardId-000000000000\n",
      "Sending Trabzon\n",
      "shardId-000000000001\n",
      "Sending Tunceli\n",
      "shardId-000000000001\n",
      "Sending Şanlıurfa\n",
      "shardId-000000000000\n",
      "Sending Uşak\n",
      "shardId-000000000003\n",
      "Sending Van\n",
      "shardId-000000000003\n",
      "Sending Yozgat\n",
      "shardId-000000000000\n",
      "Sending Zonguldak\n",
      "shardId-000000000001\n",
      "Sending Aksaray\n",
      "shardId-000000000002\n",
      "Sending Bayburt\n",
      "shardId-000000000000\n",
      "Sending Karaman\n",
      "shardId-000000000001\n",
      "Sending Kırıkkale\n",
      "shardId-000000000003\n",
      "Sending Batman\n",
      "shardId-000000000000\n",
      "Sending Şırnak\n",
      "shardId-000000000003\n",
      "Sending Bartın\n",
      "shardId-000000000002\n",
      "Sending Ardahan\n",
      "shardId-000000000003\n",
      "Sending Iğdır\n",
      "shardId-000000000003\n",
      "Sending Yalova\n",
      "shardId-000000000000\n",
      "Sending Karabük\n",
      "shardId-000000000000\n",
      "Sending Kilis\n",
      "shardId-000000000003\n",
      "Sending Osmaniye\n",
      "shardId-000000000003\n",
      "Sending Düzce\n",
      "shardId-000000000001\n"
     ]
    }
   ],
   "source": [
    "try:\n",
    "    for idx, city in df.iterrows():\n",
    "        time.sleep(2)\n",
    "        data = city['il'].encode(\"utf-8\")\n",
    "        print(f\"Sending {data.decode('utf-8')}\")\n",
    "        response = client.put_record(StreamName=STREAM_NAME, Data=data, \n",
    "                                     PartitionKey=str(city['plaka']))\n",
    "        print(response['ShardId'])\n",
    "except KeyboardInterrupt:\n",
    "    print(\"Finishing due to keyboard interrupt\")"
   ]
  },
  {
   "cell_type": "code",
   "execution_count": null,
   "id": "54314278-9005-48c8-a104-f92a077dcd3e",
   "metadata": {},
   "outputs": [],
   "source": []
  },
  {
   "cell_type": "code",
   "execution_count": null,
   "id": "35c08db5-927b-4a01-ad22-597c5090aa28",
   "metadata": {},
   "outputs": [],
   "source": []
  },
  {
   "cell_type": "code",
   "execution_count": 15,
   "id": "1b494eb6-34c9-41be-9fab-4a54b5dde992",
   "metadata": {},
   "outputs": [
    {
     "data": {
      "text/plain": [
       "{'ResponseMetadata': {'RequestId': 'efd13487-ddb7-7677-b2e1-728ffe77d573',\n",
       "  'HTTPStatusCode': 200,\n",
       "  'HTTPHeaders': {'x-amzn-requestid': 'efd13487-ddb7-7677-b2e1-728ffe77d573',\n",
       "   'x-amz-id-2': 'Cg1BMa9RUZuLBsLFSXQAzfuqi/DYxM401fK+pHXJaTKj1KEBTeXS+K5TcxSqHjmTXQzpOp06cDyoFaGlJXCHGHSM9FXlKUQa',\n",
       "   'date': 'Tue, 18 Jul 2023 07:48:24 GMT',\n",
       "   'content-type': 'application/x-amz-json-1.1',\n",
       "   'content-length': '0'},\n",
       "  'RetryAttempts': 0}}"
      ]
     },
     "execution_count": 15,
     "metadata": {},
     "output_type": "execute_result"
    }
   ],
   "source": [
    "client.delete_stream(StreamARN=stream_arn)"
   ]
  },
  {
   "cell_type": "code",
   "execution_count": 16,
   "id": "4ff7f58b-eaf7-45e1-a0c0-e9abc7c2bd7f",
   "metadata": {},
   "outputs": [
    {
     "data": {
      "text/plain": [
       "{'StreamNames': ['vbo-aws-de-demo-ds'],\n",
       " 'HasMoreStreams': False,\n",
       " 'StreamSummaries': [{'StreamName': 'vbo-aws-de-demo-ds',\n",
       "   'StreamARN': 'arn:aws:kinesis:eu-central-1:152100380489:stream/vbo-aws-de-demo-ds',\n",
       "   'StreamStatus': 'DELETING',\n",
       "   'StreamModeDetails': {'StreamMode': 'ON_DEMAND'},\n",
       "   'StreamCreationTimestamp': datetime.datetime(2023, 7, 18, 7, 45, 9, tzinfo=tzlocal())}],\n",
       " 'ResponseMetadata': {'RequestId': 'dc057b56-f62f-8ef3-8135-3d5fe612178b',\n",
       "  'HTTPStatusCode': 200,\n",
       "  'HTTPHeaders': {'x-amzn-requestid': 'dc057b56-f62f-8ef3-8135-3d5fe612178b',\n",
       "   'x-amz-id-2': 'CxG9rp/1JiQcapGWeeBCxNVBw5qh0OfR0V3yIlSiotJdOt9VbDj457eKCEUjx8gCZshEh9FWA3Szy3zMPIj4QfnBZ1iFm8ts',\n",
       "   'date': 'Tue, 18 Jul 2023 07:48:25 GMT',\n",
       "   'content-type': 'application/x-amz-json-1.1',\n",
       "   'content-length': '312'},\n",
       "  'RetryAttempts': 0}}"
      ]
     },
     "execution_count": 16,
     "metadata": {},
     "output_type": "execute_result"
    }
   ],
   "source": [
    "client.list_streams()"
   ]
  },
  {
   "cell_type": "code",
   "execution_count": null,
   "id": "994a1e44-0021-4f5a-a350-7d22c67c4faa",
   "metadata": {},
   "outputs": [],
   "source": []
  }
 ],
 "metadata": {
  "kernelspec": {
   "display_name": "Python 3 (ipykernel)",
   "language": "python",
   "name": "python3"
  },
  "language_info": {
   "codemirror_mode": {
    "name": "ipython",
    "version": 3
   },
   "file_extension": ".py",
   "mimetype": "text/x-python",
   "name": "python",
   "nbconvert_exporter": "python",
   "pygments_lexer": "ipython3",
   "version": "3.9.16"
  }
 },
 "nbformat": 4,
 "nbformat_minor": 5
}
