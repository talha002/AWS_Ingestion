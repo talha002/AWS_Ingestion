{
 "cells": [
  {
   "cell_type": "code",
   "execution_count": 1,
   "id": "593600bc-03e4-4628-a857-5138c79580a6",
   "metadata": {},
   "outputs": [],
   "source": [
    "import time\n",
    "import boto3"
   ]
  },
  {
   "cell_type": "code",
   "execution_count": 2,
   "id": "1287bcb1-3d82-43f6-92a7-4ad2c5edcda1",
   "metadata": {},
   "outputs": [],
   "source": [
    "STREAM_NAME = \"vbo-aws-de-demo-ds\""
   ]
  },
  {
   "cell_type": "code",
   "execution_count": 9,
   "id": "922c66af-6b2c-472f-9746-636845c18393",
   "metadata": {},
   "outputs": [
    {
     "name": "stdout",
     "output_type": "stream",
     "text": [
      "Getting connection, iterator and shit...\n",
      "Got shard_id='shardId-000000000002'\n",
      "Reading data...\n",
      "Received Konya\n",
      "Received Ordu\n",
      "Received Sakarya\n",
      "Received Samsun\n",
      "Received Siirt\n",
      "Received Aksaray\n",
      "Received Bartın\n",
      "Finishing due to keyboard interrupt\n"
     ]
    }
   ],
   "source": [
    "# import ipdb; ipdb.set_trace()\n",
    "try:\n",
    "    print(f\"Getting connection, iterator and shit...\")\n",
    "    client = boto3.client(\"kinesis\", region_name=\"eu-central-1\")\n",
    "    stream = client.describe_stream(StreamName=STREAM_NAME)\n",
    "    shard_id = stream[\"StreamDescription\"][\"Shards\"][2][\"ShardId\"]\n",
    "    print(f\"Got {shard_id=}\")\n",
    "    iterator = client.get_shard_iterator(\n",
    "        StreamName=STREAM_NAME,\n",
    "        ShardId=shard_id,\n",
    "        ShardIteratorType=\"LATEST\"\n",
    "    )[\"ShardIterator\"]\n",
    "    print(f\"Reading data...\")\n",
    "    response = client.get_records(ShardIterator=iterator, Limit=100)\n",
    "    while \"NextShardIterator\" in response:\n",
    "        time.sleep(2)\n",
    "        data = response[\"Records\"]\n",
    "        if len(data) >= 1:\n",
    "            data = data[0][\"Data\"]\n",
    "            print(f\"Received {data.decode('utf-8')}\")\n",
    "        response = client.get_records(ShardIterator=response[\"NextShardIterator\"], Limit=1)\n",
    "\n",
    "except KeyboardInterrupt:\n",
    "    print(\"Finishing due to keyboard interrupt\")"
   ]
  },
  {
   "cell_type": "code",
   "execution_count": null,
   "id": "07576ba4-548b-426b-99f3-00ddbbcc099d",
   "metadata": {},
   "outputs": [],
   "source": []
  }
 ],
 "metadata": {
  "kernelspec": {
   "display_name": "Python 3 (ipykernel)",
   "language": "python",
   "name": "python3"
  },
  "language_info": {
   "codemirror_mode": {
    "name": "ipython",
    "version": 3
   },
   "file_extension": ".py",
   "mimetype": "text/x-python",
   "name": "python",
   "nbconvert_exporter": "python",
   "pygments_lexer": "ipython3",
   "version": "3.9.16"
  }
 },
 "nbformat": 4,
 "nbformat_minor": 5
}
